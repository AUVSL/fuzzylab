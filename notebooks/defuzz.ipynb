{
 "cells": [
  {
   "cell_type": "markdown",
   "metadata": {},
   "source": [
    "# defuzz"
   ]
  },
  {
   "cell_type": "markdown",
   "metadata": {},
   "source": [
    "Defuzzify membership function"
   ]
  },
  {
   "cell_type": "markdown",
   "metadata": {},
   "source": [
    "## Syntax"
   ]
  },
  {
   "cell_type": "markdown",
   "metadata": {},
   "source": [
    "$\\text{out } = \\text{defuzz}(x, \\text{mf},\\text{type})$"
   ]
  },
  {
   "cell_type": "markdown",
   "metadata": {},
   "source": [
    "## Description"
   ]
  },
  {
   "cell_type": "markdown",
   "metadata": {},
   "source": [
    "$\\text{defuzz}(x, \\text{mf},\\text{type})$ returns a defuzzified value $\\text{out}$, of a membership function $\\text{mf}$ positioned at associated variable value $x$, using one of several defuzzification strategies, according to the argument, $\\text{type}$. The variable $\\text{type}$ can be one of the following:\n",
    "\n",
    "- 'centroid' — Centroid of the area under the output fuzzy set. This method is the default for Mamdani systems.\n",
    "\n",
    "- 'bisector' — Bisector of the area under the output fuzzy set\n",
    "\n",
    "- 'mom' — Mean of the values for which the output fuzzy set is maximum\n",
    "\n",
    "- 'lom' — Largest value for which the output fuzzy set is maximum\n",
    "\n",
    "- 'som' — Smallest value for which the output fuzzy set is maximum\n"
   ]
  },
  {
   "cell_type": "markdown",
   "metadata": {},
   "source": [
    "## Development"
   ]
  },
  {
   "cell_type": "markdown",
   "metadata": {},
   "source": [
    "[defuzz.py](../fuzzylab/defuzz.py)"
   ]
  },
  {
   "cell_type": "markdown",
   "metadata": {},
   "source": [
    "## Examples"
   ]
  },
  {
   "cell_type": "code",
   "execution_count": null,
   "metadata": {},
   "outputs": [],
   "source": [
    "!pip install -U fuzzylab"
   ]
  },
  {
   "cell_type": "code",
   "execution_count": 2,
   "metadata": {},
   "outputs": [
    {
     "name": "stdout",
     "output_type": "stream",
     "text": [
      "-3.2857142857142865\n"
     ]
    }
   ],
   "source": [
    "from matplotlib.pyplot import plot, xlabel, show\n",
    "from fuzzylab import linspace, trapmf, defuzz\n",
    "\n",
    "x = linspace(-10, 0.1, 10)\n",
    "mf = trapmf(x,[-10, -8, -4, 7])\n",
    "out = defuzz(x, mf, 'centroid')\n",
    "print(out)"
   ]
  }
 ],
 "metadata": {
  "kernelspec": {
   "display_name": "Python 3",
   "language": "python",
   "name": "python3"
  },
  "language_info": {
   "codemirror_mode": {
    "name": "ipython",
    "version": 3
   },
   "file_extension": ".py",
   "mimetype": "text/x-python",
   "name": "python",
   "nbconvert_exporter": "python",
   "pygments_lexer": "ipython3",
   "version": "3.7.0"
  }
 },
 "nbformat": 4,
 "nbformat_minor": 2
}
